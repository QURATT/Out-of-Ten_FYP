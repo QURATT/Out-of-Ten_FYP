{
 "cells": [
  {
   "cell_type": "code",
   "execution_count": 73,
   "id": "16d1c79f",
   "metadata": {},
   "outputs": [],
   "source": [
    "import numpy as np\n",
    "import pandas as pd\n",
    "from sklearn.metrics import f1_score\n",
    "from sklearn.model_selection import train_test_split\n",
    "from numpy import nan\n",
    "import scipy.stats\n",
    "import math\n",
    "import scipy as sp\n",
    "from sklearn.feature_selection import RFE\n",
    "from sklearn.linear_model import RidgeCV, LassoCV, Ridge, Lasso\n",
    "from sklearn.impute import SimpleImputer\n",
    "from sklearn.model_selection import train_test_split\n",
    "import matplotlib\n",
    "import matplotlib.pyplot as plt\n",
    "import seaborn as sn\n",
    "import matplotlib.pyplot as plt"
   ]
  },
  {
   "cell_type": "code",
   "execution_count": 74,
   "id": "58031e3e",
   "metadata": {},
   "outputs": [],
   "source": [
    "dataframe=pd.read_csv('dataset.txt',header=None) #Header none so it doesnot consider its first line row as hedaer"
   ]
  },
  {
   "cell_type": "code",
   "execution_count": 75,
   "id": "d9a53c7b",
   "metadata": {},
   "outputs": [
    {
     "data": {
      "text/html": [
       "<div>\n",
       "<style scoped>\n",
       "    .dataframe tbody tr th:only-of-type {\n",
       "        vertical-align: middle;\n",
       "    }\n",
       "\n",
       "    .dataframe tbody tr th {\n",
       "        vertical-align: top;\n",
       "    }\n",
       "\n",
       "    .dataframe thead th {\n",
       "        text-align: right;\n",
       "    }\n",
       "</style>\n",
       "<table border=\"1\" class=\"dataframe\">\n",
       "  <thead>\n",
       "    <tr style=\"text-align: right;\">\n",
       "      <th></th>\n",
       "      <th>0</th>\n",
       "      <th>1</th>\n",
       "      <th>2</th>\n",
       "      <th>3</th>\n",
       "      <th>4</th>\n",
       "      <th>5</th>\n",
       "      <th>6</th>\n",
       "      <th>7</th>\n",
       "      <th>8</th>\n",
       "    </tr>\n",
       "  </thead>\n",
       "  <tbody>\n",
       "    <tr>\n",
       "      <th>0</th>\n",
       "      <td>6</td>\n",
       "      <td>148</td>\n",
       "      <td>72</td>\n",
       "      <td>35</td>\n",
       "      <td>0</td>\n",
       "      <td>33.6</td>\n",
       "      <td>0.627</td>\n",
       "      <td>50</td>\n",
       "      <td>1</td>\n",
       "    </tr>\n",
       "    <tr>\n",
       "      <th>1</th>\n",
       "      <td>1</td>\n",
       "      <td>85</td>\n",
       "      <td>66</td>\n",
       "      <td>29</td>\n",
       "      <td>0</td>\n",
       "      <td>26.6</td>\n",
       "      <td>0.351</td>\n",
       "      <td>31</td>\n",
       "      <td>0</td>\n",
       "    </tr>\n",
       "    <tr>\n",
       "      <th>2</th>\n",
       "      <td>8</td>\n",
       "      <td>183</td>\n",
       "      <td>64</td>\n",
       "      <td>0</td>\n",
       "      <td>0</td>\n",
       "      <td>23.3</td>\n",
       "      <td>0.672</td>\n",
       "      <td>32</td>\n",
       "      <td>1</td>\n",
       "    </tr>\n",
       "    <tr>\n",
       "      <th>3</th>\n",
       "      <td>1</td>\n",
       "      <td>89</td>\n",
       "      <td>66</td>\n",
       "      <td>23</td>\n",
       "      <td>94</td>\n",
       "      <td>28.1</td>\n",
       "      <td>0.167</td>\n",
       "      <td>21</td>\n",
       "      <td>0</td>\n",
       "    </tr>\n",
       "    <tr>\n",
       "      <th>4</th>\n",
       "      <td>0</td>\n",
       "      <td>137</td>\n",
       "      <td>40</td>\n",
       "      <td>35</td>\n",
       "      <td>168</td>\n",
       "      <td>43.1</td>\n",
       "      <td>2.288</td>\n",
       "      <td>33</td>\n",
       "      <td>1</td>\n",
       "    </tr>\n",
       "    <tr>\n",
       "      <th>...</th>\n",
       "      <td>...</td>\n",
       "      <td>...</td>\n",
       "      <td>...</td>\n",
       "      <td>...</td>\n",
       "      <td>...</td>\n",
       "      <td>...</td>\n",
       "      <td>...</td>\n",
       "      <td>...</td>\n",
       "      <td>...</td>\n",
       "    </tr>\n",
       "    <tr>\n",
       "      <th>763</th>\n",
       "      <td>10</td>\n",
       "      <td>101</td>\n",
       "      <td>76</td>\n",
       "      <td>48</td>\n",
       "      <td>180</td>\n",
       "      <td>32.9</td>\n",
       "      <td>0.171</td>\n",
       "      <td>63</td>\n",
       "      <td>0</td>\n",
       "    </tr>\n",
       "    <tr>\n",
       "      <th>764</th>\n",
       "      <td>2</td>\n",
       "      <td>122</td>\n",
       "      <td>70</td>\n",
       "      <td>27</td>\n",
       "      <td>0</td>\n",
       "      <td>36.8</td>\n",
       "      <td>0.340</td>\n",
       "      <td>27</td>\n",
       "      <td>0</td>\n",
       "    </tr>\n",
       "    <tr>\n",
       "      <th>765</th>\n",
       "      <td>5</td>\n",
       "      <td>121</td>\n",
       "      <td>72</td>\n",
       "      <td>23</td>\n",
       "      <td>112</td>\n",
       "      <td>26.2</td>\n",
       "      <td>0.245</td>\n",
       "      <td>30</td>\n",
       "      <td>0</td>\n",
       "    </tr>\n",
       "    <tr>\n",
       "      <th>766</th>\n",
       "      <td>1</td>\n",
       "      <td>126</td>\n",
       "      <td>60</td>\n",
       "      <td>0</td>\n",
       "      <td>0</td>\n",
       "      <td>30.1</td>\n",
       "      <td>0.349</td>\n",
       "      <td>47</td>\n",
       "      <td>1</td>\n",
       "    </tr>\n",
       "    <tr>\n",
       "      <th>767</th>\n",
       "      <td>1</td>\n",
       "      <td>93</td>\n",
       "      <td>70</td>\n",
       "      <td>31</td>\n",
       "      <td>0</td>\n",
       "      <td>30.4</td>\n",
       "      <td>0.315</td>\n",
       "      <td>23</td>\n",
       "      <td>0</td>\n",
       "    </tr>\n",
       "  </tbody>\n",
       "</table>\n",
       "<p>768 rows × 9 columns</p>\n",
       "</div>"
      ],
      "text/plain": [
       "      0    1   2   3    4     5      6   7  8\n",
       "0     6  148  72  35    0  33.6  0.627  50  1\n",
       "1     1   85  66  29    0  26.6  0.351  31  0\n",
       "2     8  183  64   0    0  23.3  0.672  32  1\n",
       "3     1   89  66  23   94  28.1  0.167  21  0\n",
       "4     0  137  40  35  168  43.1  2.288  33  1\n",
       "..   ..  ...  ..  ..  ...   ...    ...  .. ..\n",
       "763  10  101  76  48  180  32.9  0.171  63  0\n",
       "764   2  122  70  27    0  36.8  0.340  27  0\n",
       "765   5  121  72  23  112  26.2  0.245  30  0\n",
       "766   1  126  60   0    0  30.1  0.349  47  1\n",
       "767   1   93  70  31    0  30.4  0.315  23  0\n",
       "\n",
       "[768 rows x 9 columns]"
      ]
     },
     "execution_count": 75,
     "metadata": {},
     "output_type": "execute_result"
    }
   ],
   "source": [
    "dataframe"
   ]
  },
  {
   "cell_type": "markdown",
   "id": "2e6adf96",
   "metadata": {},
   "source": [
    "### Checking Missing Values"
   ]
  },
  {
   "cell_type": "code",
   "execution_count": 76,
   "id": "46e4b719",
   "metadata": {},
   "outputs": [
    {
     "data": {
      "text/plain": [
       "0    0\n",
       "1    0\n",
       "2    0\n",
       "3    0\n",
       "4    0\n",
       "5    0\n",
       "6    0\n",
       "7    0\n",
       "8    0\n",
       "dtype: int64"
      ]
     },
     "execution_count": 76,
     "metadata": {},
     "output_type": "execute_result"
    }
   ],
   "source": [
    "dataframe.isnull().sum()"
   ]
  },
  {
   "cell_type": "code",
   "execution_count": 77,
   "id": "eae8c82e",
   "metadata": {},
   "outputs": [],
   "source": [
    "# there are no missing values in data, so we need not impute them, or replace them"
   ]
  },
  {
   "cell_type": "code",
   "execution_count": 78,
   "id": "c7815896",
   "metadata": {},
   "outputs": [
    {
     "data": {
      "image/png": "[encoded data removed]",
      "text/plain": [
       "<Figure size 720x720 with 9 Axes>"
      ]
     },
     "metadata": {
      "needs_background": "light"
     },
     "output_type": "display_data"
    }
   ],
   "source": [
    "p = dataframe.hist(figsize = (10,10),color = \"red\")"
   ]
  },
  {
   "cell_type": "markdown",
   "id": "09567b48",
   "metadata": {},
   "source": [
    "### HeatMap"
   ]
  },
  {
   "cell_type": "code",
   "execution_count": 79,
   "id": "9c69d7b9",
   "metadata": {},
   "outputs": [
    {
     "data": {
      "text/plain": [
       "<AxesSubplot:>"
      ]
     },
     "execution_count": 79,
     "metadata": {},
     "output_type": "execute_result"
    },
    {
     "data": {
      "image/png": "[encoded data removed]",
      "text/plain": [
       "<Figure size 1080x720 with 2 Axes>"
      ]
     },
     "metadata": {
      "needs_background": "light"
     },
     "output_type": "display_data"
    }
   ],
   "source": [
    "import seaborn as sns\n",
    "f,ax = plt.subplots(1, figsize=(15,10))\n",
    "sns.heatmap(dataframe.corr(), cmap=\"OrRd\",annot=True, ax=ax)"
   ]
  },
  {
   "cell_type": "markdown",
   "id": "3feaaf39",
   "metadata": {},
   "source": [
    "### Data Frame Rows and Columns"
   ]
  },
  {
   "cell_type": "code",
   "execution_count": 80,
   "id": "4be15ef3",
   "metadata": {},
   "outputs": [
    {
     "data": {
      "text/plain": [
       "(768, 9)"
      ]
     },
     "execution_count": 80,
     "metadata": {},
     "output_type": "execute_result"
    }
   ],
   "source": [
    "dataframe.shape"
   ]
  },
  {
   "cell_type": "markdown",
   "id": "66fb1dbc",
   "metadata": {},
   "source": [
    "### Converting all values to float type to have same type overall"
   ]
  },
  {
   "cell_type": "code",
   "execution_count": 81,
   "id": "36e2dfab",
   "metadata": {},
   "outputs": [],
   "source": [
    "dataframe= pd.DataFrame.from_records(dataframe_Diabetes)"
   ]
  },
  {
   "cell_type": "code",
   "execution_count": 82,
   "id": "4b2b1c1e",
   "metadata": {},
   "outputs": [],
   "source": [
    "dataframe=dataframe_Diabetes.astype(float)"
   ]
  },
  {
   "cell_type": "markdown",
   "id": "7ce74b48",
   "metadata": {},
   "source": [
    "## NORMALIZATION"
   ]
  },
  {
   "cell_type": "code",
   "execution_count": 83,
   "id": "3b8891f3",
   "metadata": {},
   "outputs": [],
   "source": [
    "from sklearn import preprocessing\n",
    "\n",
    "x_di = dataframe_Diabetes.values #returns a numpy array"
   ]
  },
  {
   "cell_type": "code",
   "execution_count": 84,
   "id": "cb4b9414",
   "metadata": {},
   "outputs": [],
   "source": [
    "min_max_scaler = preprocessing.MinMaxScaler()\n",
    "x_scaled_di = min_max_scaler.fit_transform(x_di)"
   ]
  },
  {
   "cell_type": "code",
   "execution_count": 85,
   "id": "b32a1ab5",
   "metadata": {},
   "outputs": [],
   "source": [
    "from sklearn import preprocessing\n",
    "\n",
    "x_di = dataframe_Diabetes.values #returns a numpy array"
   ]
  },
  {
   "cell_type": "code",
   "execution_count": 86,
   "id": "1935f273",
   "metadata": {},
   "outputs": [],
   "source": [
    "x_scaled_di = min_max_scaler.fit_transform(x_di)"
   ]
  },
  {
   "cell_type": "code",
   "execution_count": 87,
   "id": "8309562d",
   "metadata": {},
   "outputs": [
    {
     "data": {
      "text/plain": [
       "array([[0.35294118, 0.74371859, 0.59016393, ..., 0.23441503, 0.48333333,\n",
       "        1.        ],\n",
       "       [0.05882353, 0.42713568, 0.54098361, ..., 0.11656704, 0.16666667,\n",
       "        0.        ],\n",
       "       [0.47058824, 0.91959799, 0.52459016, ..., 0.25362938, 0.18333333,\n",
       "        1.        ],\n",
       "       ...,\n",
       "       [0.29411765, 0.6080402 , 0.59016393, ..., 0.07130658, 0.15      ,\n",
       "        0.        ],\n",
       "       [0.05882353, 0.63316583, 0.49180328, ..., 0.11571307, 0.43333333,\n",
       "        1.        ],\n",
       "       [0.05882353, 0.46733668, 0.57377049, ..., 0.10119556, 0.03333333,\n",
       "        0.        ]])"
      ]
     },
     "execution_count": 87,
     "metadata": {},
     "output_type": "execute_result"
    }
   ],
   "source": [
    "x_scaled_di #all  values are now between 0 and 1"
   ]
  },
  {
   "cell_type": "code",
   "execution_count": 88,
   "id": "97abae8e",
   "metadata": {},
   "outputs": [],
   "source": [
    "values_di=x_scaled_di"
   ]
  },
  {
   "cell_type": "code",
   "execution_count": 89,
   "id": "e9d3f87e",
   "metadata": {},
   "outputs": [],
   "source": [
    "X_di, y_di = values_di[:, :-1], values_di[:, -1]"
   ]
  },
  {
   "cell_type": "code",
   "execution_count": 90,
   "id": "dee18d8f",
   "metadata": {},
   "outputs": [
    {
     "data": {
      "text/plain": [
       "array([[0.35294118, 0.74371859, 0.59016393, ..., 0.50074516, 0.23441503,\n",
       "        0.48333333],\n",
       "       [0.05882353, 0.42713568, 0.54098361, ..., 0.39642325, 0.11656704,\n",
       "        0.16666667],\n",
       "       [0.47058824, 0.91959799, 0.52459016, ..., 0.34724292, 0.25362938,\n",
       "        0.18333333],\n",
       "       ...,\n",
       "       [0.29411765, 0.6080402 , 0.59016393, ..., 0.390462  , 0.07130658,\n",
       "        0.15      ],\n",
       "       [0.05882353, 0.63316583, 0.49180328, ..., 0.4485842 , 0.11571307,\n",
       "        0.43333333],\n",
       "       [0.05882353, 0.46733668, 0.57377049, ..., 0.45305514, 0.10119556,\n",
       "        0.03333333]])"
      ]
     },
     "execution_count": 90,
     "metadata": {},
     "output_type": "execute_result"
    }
   ],
   "source": [
    "X_di"
   ]
  },
  {
   "cell_type": "markdown",
   "id": "e79ca437",
   "metadata": {},
   "source": [
    "## DATA DESCRITIZATION"
   ]
  },
  {
   "cell_type": "code",
   "execution_count": 91,
   "id": "288487a7",
   "metadata": {},
   "outputs": [],
   "source": [
    "from sklearn.preprocessing import KBinsDiscretizer\n",
    "trans = KBinsDiscretizer(n_bins=4, encode='ordinal', strategy='uniform')\n",
    "X_di = trans.fit_transform(X_di)\n",
    "df_di_X = pd.DataFrame.from_records(X_di)"
   ]
  },
  {
   "cell_type": "code",
   "execution_count": 92,
   "id": "235a107f",
   "metadata": {},
   "outputs": [
    {
     "data": {
      "text/html": [
       "<div>\n",
       "<style scoped>\n",
       "    .dataframe tbody tr th:only-of-type {\n",
       "        vertical-align: middle;\n",
       "    }\n",
       "\n",
       "    .dataframe tbody tr th {\n",
       "        vertical-align: top;\n",
       "    }\n",
       "\n",
       "    .dataframe thead th {\n",
       "        text-align: right;\n",
       "    }\n",
       "</style>\n",
       "<table border=\"1\" class=\"dataframe\">\n",
       "  <thead>\n",
       "    <tr style=\"text-align: right;\">\n",
       "      <th></th>\n",
       "      <th>0</th>\n",
       "      <th>1</th>\n",
       "      <th>2</th>\n",
       "      <th>3</th>\n",
       "      <th>4</th>\n",
       "      <th>5</th>\n",
       "      <th>6</th>\n",
       "      <th>7</th>\n",
       "    </tr>\n",
       "  </thead>\n",
       "  <tbody>\n",
       "    <tr>\n",
       "      <th>0</th>\n",
       "      <td>1.0</td>\n",
       "      <td>2.0</td>\n",
       "      <td>2.0</td>\n",
       "      <td>1.0</td>\n",
       "      <td>0.0</td>\n",
       "      <td>2.0</td>\n",
       "      <td>0.0</td>\n",
       "      <td>1.0</td>\n",
       "    </tr>\n",
       "    <tr>\n",
       "      <th>1</th>\n",
       "      <td>0.0</td>\n",
       "      <td>1.0</td>\n",
       "      <td>2.0</td>\n",
       "      <td>1.0</td>\n",
       "      <td>0.0</td>\n",
       "      <td>1.0</td>\n",
       "      <td>0.0</td>\n",
       "      <td>0.0</td>\n",
       "    </tr>\n",
       "    <tr>\n",
       "      <th>2</th>\n",
       "      <td>1.0</td>\n",
       "      <td>3.0</td>\n",
       "      <td>2.0</td>\n",
       "      <td>0.0</td>\n",
       "      <td>0.0</td>\n",
       "      <td>1.0</td>\n",
       "      <td>1.0</td>\n",
       "      <td>0.0</td>\n",
       "    </tr>\n",
       "    <tr>\n",
       "      <th>3</th>\n",
       "      <td>0.0</td>\n",
       "      <td>1.0</td>\n",
       "      <td>2.0</td>\n",
       "      <td>0.0</td>\n",
       "      <td>0.0</td>\n",
       "      <td>1.0</td>\n",
       "      <td>0.0</td>\n",
       "      <td>0.0</td>\n",
       "    </tr>\n",
       "    <tr>\n",
       "      <th>4</th>\n",
       "      <td>0.0</td>\n",
       "      <td>2.0</td>\n",
       "      <td>1.0</td>\n",
       "      <td>1.0</td>\n",
       "      <td>0.0</td>\n",
       "      <td>2.0</td>\n",
       "      <td>3.0</td>\n",
       "      <td>0.0</td>\n",
       "    </tr>\n",
       "    <tr>\n",
       "      <th>...</th>\n",
       "      <td>...</td>\n",
       "      <td>...</td>\n",
       "      <td>...</td>\n",
       "      <td>...</td>\n",
       "      <td>...</td>\n",
       "      <td>...</td>\n",
       "      <td>...</td>\n",
       "      <td>...</td>\n",
       "    </tr>\n",
       "    <tr>\n",
       "      <th>763</th>\n",
       "      <td>2.0</td>\n",
       "      <td>2.0</td>\n",
       "      <td>2.0</td>\n",
       "      <td>1.0</td>\n",
       "      <td>0.0</td>\n",
       "      <td>1.0</td>\n",
       "      <td>0.0</td>\n",
       "      <td>2.0</td>\n",
       "    </tr>\n",
       "    <tr>\n",
       "      <th>764</th>\n",
       "      <td>0.0</td>\n",
       "      <td>2.0</td>\n",
       "      <td>2.0</td>\n",
       "      <td>1.0</td>\n",
       "      <td>0.0</td>\n",
       "      <td>2.0</td>\n",
       "      <td>0.0</td>\n",
       "      <td>0.0</td>\n",
       "    </tr>\n",
       "    <tr>\n",
       "      <th>765</th>\n",
       "      <td>1.0</td>\n",
       "      <td>2.0</td>\n",
       "      <td>2.0</td>\n",
       "      <td>0.0</td>\n",
       "      <td>0.0</td>\n",
       "      <td>1.0</td>\n",
       "      <td>0.0</td>\n",
       "      <td>0.0</td>\n",
       "    </tr>\n",
       "    <tr>\n",
       "      <th>766</th>\n",
       "      <td>0.0</td>\n",
       "      <td>2.0</td>\n",
       "      <td>1.0</td>\n",
       "      <td>0.0</td>\n",
       "      <td>0.0</td>\n",
       "      <td>1.0</td>\n",
       "      <td>0.0</td>\n",
       "      <td>1.0</td>\n",
       "    </tr>\n",
       "    <tr>\n",
       "      <th>767</th>\n",
       "      <td>0.0</td>\n",
       "      <td>1.0</td>\n",
       "      <td>2.0</td>\n",
       "      <td>1.0</td>\n",
       "      <td>0.0</td>\n",
       "      <td>1.0</td>\n",
       "      <td>0.0</td>\n",
       "      <td>0.0</td>\n",
       "    </tr>\n",
       "  </tbody>\n",
       "</table>\n",
       "<p>768 rows × 8 columns</p>\n",
       "</div>"
      ],
      "text/plain": [
       "       0    1    2    3    4    5    6    7\n",
       "0    1.0  2.0  2.0  1.0  0.0  2.0  0.0  1.0\n",
       "1    0.0  1.0  2.0  1.0  0.0  1.0  0.0  0.0\n",
       "2    1.0  3.0  2.0  0.0  0.0  1.0  1.0  0.0\n",
       "3    0.0  1.0  2.0  0.0  0.0  1.0  0.0  0.0\n",
       "4    0.0  2.0  1.0  1.0  0.0  2.0  3.0  0.0\n",
       "..   ...  ...  ...  ...  ...  ...  ...  ...\n",
       "763  2.0  2.0  2.0  1.0  0.0  1.0  0.0  2.0\n",
       "764  0.0  2.0  2.0  1.0  0.0  2.0  0.0  0.0\n",
       "765  1.0  2.0  2.0  0.0  0.0  1.0  0.0  0.0\n",
       "766  0.0  2.0  1.0  0.0  0.0  1.0  0.0  1.0\n",
       "767  0.0  1.0  2.0  1.0  0.0  1.0  0.0  0.0\n",
       "\n",
       "[768 rows x 8 columns]"
      ]
     },
     "execution_count": 92,
     "metadata": {},
     "output_type": "execute_result"
    }
   ],
   "source": [
    "df_di_X #descritized data using Kbins Descritizer where bins are kept 4"
   ]
  },
  {
   "cell_type": "markdown",
   "id": "4dfeebab",
   "metadata": {},
   "source": [
    "## FEATURE SELECTION"
   ]
  },
  {
   "cell_type": "code",
   "execution_count": 93,
   "id": "da7fcb17",
   "metadata": {},
   "outputs": [
    {
     "data": {
      "text/plain": [
       "LassoCV()"
      ]
     },
     "execution_count": 93,
     "metadata": {},
     "output_type": "execute_result"
    }
   ],
   "source": [
    "reg_di = LassoCV()#helps in performing feature selection to have useful features and drop the unimportant ones\n",
    "reg_di.fit(df_di_X, y_di)"
   ]
  },
  {
   "cell_type": "code",
   "execution_count": 94,
   "id": "47368f18",
   "metadata": {},
   "outputs": [
    {
     "name": "stdout",
     "output_type": "stream",
     "text": [
      "Best alpha Diabetes using built-in LassoCV: 0.004040\n",
      "Best score using built-in LassoCV: 0.248383\n"
     ]
    }
   ],
   "source": [
    "print(\"Best alpha Diabetes using built-in LassoCV: %f\" % reg_di.alpha_)\n",
    "print(\"Best score using built-in LassoCV: %f\" %reg_di.score(df_di_X,y_di))\n",
    "coef_di = pd.Series(reg_di.coef_, index = df_di_X.columns)"
   ]
  },
  {
   "cell_type": "code",
   "execution_count": 95,
   "id": "ab1e4814",
   "metadata": {},
   "outputs": [
    {
     "name": "stdout",
     "output_type": "stream",
     "text": [
      "Lasso picked 6 variables and discarded the other 2 variables\n"
     ]
    }
   ],
   "source": [
    "print(\"Lasso picked \" + str(sum(coef_di != 0)) + \" variables and discarded the other \" +  str(sum(coef_di == 0)) + \" variables\")"
   ]
  },
  {
   "cell_type": "code",
   "execution_count": 96,
   "id": "e8ed08d2",
   "metadata": {},
   "outputs": [],
   "source": [
    "count=0#dropping\n",
    "for i in coef_di:\n",
    "  if( i==0):\n",
    "    df_di_X=df_di_X.drop(columns=[count])\n",
    "    \n",
    "  count+=1\n"
   ]
  },
  {
   "cell_type": "markdown",
   "id": "71576fcc",
   "metadata": {},
   "source": [
    "## KNN"
   ]
  },
  {
   "cell_type": "code",
   "execution_count": 97,
   "id": "40876c6e",
   "metadata": {},
   "outputs": [],
   "source": [
    "# Defining class for KNN then calling the function"
   ]
  },
  {
   "cell_type": "code",
   "execution_count": 98,
   "id": "1d0f2e49",
   "metadata": {},
   "outputs": [],
   "source": [
    "class KNN():\n",
    "\n",
    "    X_train=0\n",
    "    Y_train=0\n",
    "    test_size=45\n",
    "    k=0\n",
    "    def __init__(self, k, scalefeatures=False):        \n",
    "        self.k=k\n",
    "        #pass   \n",
    "    def fit(self, X, Y):\n",
    "        self.X_train=X\n",
    "        self.Y_train=Y \n",
    "\n",
    "    def Compute_distances(self,X, y, x_train, k):\n",
    "        n_samples = X.shape[0]\n",
    "        distances = np.empty(n_samples, dtype=np.float64)\n",
    "\n",
    "        # distance calculation\n",
    "        for i in range(n_samples):\n",
    "            distances[i] = (x_train - X[i]).dot(x_train - X[i])\n",
    "        #print(distances)\n",
    "        distances = sp.c_[distances, y]\n",
    "        sorted_distances = distances[distances[:,0].argsort()]\n",
    "        targets = sorted_distances[0:k,1]\n",
    "        unique, counts = np.unique(targets, return_counts=True)\n",
    "        return(unique[np.argmax(counts)])\n",
    "    def predict(self,X):\n",
    "\n",
    "        n_predictions, n_features = X.shape\n",
    "        predictions = []\n",
    "        for i in range(n_predictions):\n",
    "            print(X[i,:])\n",
    "#            print(self.Compute_distances(self.X_train, self.Y_train, X[i, :], self.k))\n",
    "            predictions.append( self.Compute_distances(self.X_train, self.Y_train, X[i, :], self.k))\n",
    "        return(predictions)\n",
    "    def accuracy_metric(self,actual, predicted):\n",
    "        correct = 0\n",
    "        for i in range(len(actual)):\n",
    "            if actual[i] == predicted[i]:\n",
    "                correct += 1\n",
    "        return correct / float(len(actual)) * 100.0"
   ]
  },
  {
   "cell_type": "code",
   "execution_count": 99,
   "id": "11783454",
   "metadata": {},
   "outputs": [],
   "source": [
    "X_train, X_test, y_train, y_test = train_test_split(df_di_X.values, y_di, test_size=0.3, random_state=42)"
   ]
  },
  {
   "cell_type": "code",
   "execution_count": 100,
   "id": "d0f579d7",
   "metadata": {},
   "outputs": [
    {
     "data": {
      "text/plain": [
       "array([[0., 1., 1., 1., 0., 0.],\n",
       "       [1., 2., 2., 2., 0., 0.],\n",
       "       [0., 2., 2., 2., 0., 0.],\n",
       "       ...,\n",
       "       [2., 2., 2., 2., 1., 1.],\n",
       "       [0., 2., 0., 2., 0., 0.],\n",
       "       [0., 2., 3., 1., 0., 0.]])"
      ]
     },
     "execution_count": 100,
     "metadata": {},
     "output_type": "execute_result"
    }
   ],
   "source": [
    "X_train"
   ]
  },
  {
   "cell_type": "code",
   "execution_count": 101,
   "id": "8fa80666",
   "metadata": {},
   "outputs": [
    {
     "name": "stdout",
     "output_type": "stream",
     "text": [
      "[1. 1. 1. 2. 0. 1.]\n",
      "[0. 2. 2. 2. 0. 0.]\n",
      "[0. 2. 2. 1. 0. 0.]\n",
      "[1. 2. 2. 1. 1. 0.]\n",
      "[1. 2. 2. 1. 0. 1.]\n",
      "[1. 2. 2. 2. 0. 2.]\n",
      "[0. 1. 1. 1. 0. 0.]\n",
      "[0. 2. 0. 2. 1. 1.]\n",
      "[0. 3. 2. 1. 0. 1.]\n",
      "[1. 2. 2. 2. 0. 2.]\n",
      "[2. 2. 2. 1. 0. 1.]\n",
      "[1. 3. 3. 2. 0. 2.]\n",
      "[0. 2. 1. 1. 0. 0.]\n",
      "[1. 1. 2. 2. 1. 1.]\n",
      "[0. 1. 1. 1. 1. 0.]\n",
      "[0. 2. 1. 1. 1. 0.]\n",
      "[0. 1. 2. 2. 0. 0.]\n",
      "[1. 1. 2. 1. 0. 0.]\n",
      "[0. 3. 0. 1. 0. 1.]\n",
      "[0. 2. 2. 2. 0. 0.]\n",
      "[1. 2. 2. 1. 0. 1.]\n",
      "[0. 1. 2. 1. 0. 0.]\n",
      "[3. 2. 2. 2. 0. 1.]\n",
      "[0. 1. 2. 1. 0. 0.]\n",
      "[2. 2. 2. 2. 0. 1.]\n",
      "[1. 3. 2. 2. 0. 1.]\n",
      "[1. 2. 1. 1. 0. 0.]\n",
      "[0. 2. 2. 1. 0. 0.]\n",
      "[0. 2. 2. 2. 0. 0.]\n",
      "[0. 1. 2. 1. 0. 1.]\n",
      "[0. 3. 2. 3. 1. 0.]\n",
      "[0. 2. 2. 2. 0. 3.]\n",
      "[0. 3. 2. 2. 0. 0.]\n",
      "[0. 3. 0. 1. 1. 0.]\n",
      "[0. 2. 3. 2. 1. 2.]\n",
      "[2. 3. 2. 2. 1. 0.]\n",
      "[0. 3. 2. 2. 0. 2.]\n",
      "[0. 2. 2. 1. 1. 1.]\n",
      "[2. 2. 2. 1. 0. 2.]\n",
      "[0. 2. 0. 2. 0. 0.]\n",
      "[0. 1. 1. 1. 0. 0.]\n",
      "[0. 2. 1. 1. 1. 2.]\n",
      "[1. 2. 2. 2. 0. 2.]\n",
      "[3. 2. 2. 1. 0. 1.]\n",
      "[1. 1. 3. 1. 0. 0.]\n",
      "[0. 3. 2. 1. 1. 0.]\n",
      "[0. 2. 2. 2. 2. 2.]\n",
      "[1. 1. 2. 2. 0. 0.]\n",
      "[1. 2. 2. 1. 1. 2.]\n",
      "[0. 3. 2. 2. 1. 2.]\n",
      "[0. 1. 2. 1. 0. 0.]\n",
      "[2. 2. 2. 1. 1. 2.]\n",
      "[2. 2. 2. 2. 0. 2.]\n",
      "[0. 2. 2. 1. 0. 0.]\n",
      "[0. 2. 2. 1. 0. 0.]\n",
      "[0. 1. 2. 1. 0. 0.]\n",
      "[1. 3. 2. 1. 0. 2.]\n",
      "[0. 1. 0. 0. 0. 0.]\n",
      "[0. 2. 2. 2. 1. 0.]\n",
      "[1. 3. 2. 1. 0. 1.]\n",
      "[1. 3. 2. 1. 0. 1.]\n",
      "[0. 2. 2. 2. 0. 0.]\n",
      "[1. 2. 2. 1. 0. 2.]\n",
      "[2. 1. 2. 1. 1. 1.]\n",
      "[0. 1. 2. 2. 0. 0.]\n",
      "[0. 2. 2. 2. 0. 0.]\n",
      "[0. 1. 1. 1. 0. 0.]\n",
      "[1. 2. 3. 2. 0. 1.]\n",
      "[0. 2. 2. 1. 0. 0.]\n",
      "[0. 3. 2. 2. 1. 0.]\n",
      "[1. 3. 2. 2. 1. 1.]\n",
      "[0. 1. 2. 1. 0. 0.]\n",
      "[2. 1. 2. 1. 0. 2.]\n",
      "[0. 1. 2. 2. 0. 0.]\n",
      "[1. 2. 2. 1. 0. 0.]\n",
      "[1. 2. 3. 2. 0. 2.]\n",
      "[0. 2. 2. 1. 0. 2.]\n",
      "[0. 1. 1. 1. 1. 1.]\n",
      "[0. 2. 2. 1. 0. 0.]\n",
      "[0. 2. 3. 2. 0. 0.]\n",
      "[1. 3. 2. 1. 0. 1.]\n",
      "[0. 2. 2. 2. 0. 0.]\n",
      "[0. 1. 2. 1. 0. 0.]\n",
      "[0. 2. 3. 2. 0. 0.]\n",
      "[0. 2. 2. 2. 1. 0.]\n",
      "[0. 3. 2. 2. 0. 1.]\n",
      "[1. 3. 2. 2. 0. 1.]\n",
      "[0. 2. 2. 1. 1. 0.]\n",
      "[1. 1. 2. 1. 0. 0.]\n",
      "[0. 1. 1. 1. 0. 0.]\n",
      "[0. 1. 1. 1. 0. 0.]\n",
      "[0. 1. 2. 2. 0. 0.]\n",
      "[0. 1. 0. 0. 0. 0.]\n",
      "[1. 2. 0. 1. 0. 1.]\n",
      "[0. 2. 1. 2. 0. 0.]\n",
      "[0. 2. 2. 2. 0. 0.]\n",
      "[2. 2. 1. 1. 0. 1.]\n",
      "[0. 1. 2. 2. 0. 0.]\n",
      "[0. 3. 1. 2. 1. 0.]\n",
      "[1. 1. 2. 1. 0. 1.]\n",
      "[0. 3. 2. 1. 0. 1.]\n",
      "[0. 1. 2. 2. 0. 0.]\n",
      "[3. 2. 2. 2. 0. 1.]\n",
      "[0. 2. 2. 2. 0. 0.]\n",
      "[0. 3. 2. 1. 1. 0.]\n",
      "[0. 2. 2. 2. 0. 0.]\n",
      "[0. 2. 1. 1. 1. 0.]\n",
      "[0. 3. 2. 2. 1. 0.]\n",
      "[0. 1. 2. 2. 2. 0.]\n",
      "[1. 2. 2. 2. 1. 1.]\n",
      "[0. 1. 1. 1. 0. 0.]\n",
      "[0. 3. 2. 1. 0. 0.]\n",
      "[1. 2. 0. 0. 0. 0.]\n",
      "[1. 3. 3. 2. 0. 1.]\n",
      "[0. 2. 2. 2. 0. 0.]\n",
      "[0. 2. 1. 2. 0. 0.]\n",
      "[0. 3. 1. 2. 0. 0.]\n",
      "[0. 2. 2. 1. 0. 0.]\n",
      "[0. 1. 2. 1. 0. 0.]\n",
      "[2. 2. 0. 2. 0. 0.]\n",
      "[0. 2. 1. 1. 0. 0.]\n",
      "[0. 2. 2. 2. 1. 0.]\n",
      "[2. 2. 2. 1. 0. 0.]\n",
      "[0. 1. 2. 1. 2. 0.]\n",
      "[0. 3. 1. 1. 0. 0.]\n",
      "[2. 2. 2. 1. 0. 2.]\n",
      "[2. 2. 0. 0. 0. 0.]\n",
      "[2. 3. 2. 1. 2. 2.]\n",
      "[2. 2. 0. 3. 0. 1.]\n",
      "[0. 3. 3. 1. 1. 1.]\n",
      "[1. 3. 2. 1. 1. 0.]\n",
      "[2. 3. 2. 2. 1. 1.]\n",
      "[0. 2. 1. 1. 1. 0.]\n",
      "[2. 2. 2. 1. 0. 1.]\n",
      "[0. 3. 2. 2. 2. 0.]\n",
      "[0. 2. 2. 1. 0. 0.]\n",
      "[1. 2. 2. 1. 0. 0.]\n",
      "[3. 3. 3. 2. 0. 1.]\n",
      "[1. 3. 2. 2. 1. 2.]\n",
      "[0. 1. 2. 1. 0. 0.]\n",
      "[0. 2. 2. 1. 0. 0.]\n",
      "[0. 1. 1. 1. 0. 0.]\n",
      "[0. 2. 2. 1. 0. 0.]\n",
      "[0. 2. 2. 2. 0. 0.]\n",
      "[0. 1. 1. 2. 0. 0.]\n",
      "[1. 1. 2. 2. 0. 1.]\n",
      "[1. 1. 2. 1. 1. 0.]\n",
      "[0. 1. 1. 1. 0. 0.]\n",
      "[0. 2. 2. 2. 0. 1.]\n",
      "[2. 3. 2. 1. 0. 1.]\n",
      "[0. 1. 1. 1. 2. 0.]\n",
      "[1. 1. 2. 2. 0. 2.]\n",
      "[0. 2. 2. 1. 0. 0.]\n",
      "[1. 1. 2. 2. 1. 1.]\n",
      "[0. 1. 0. 0. 0. 0.]\n",
      "[2. 2. 2. 1. 2. 1.]\n",
      "[0. 2. 1. 1. 0. 0.]\n",
      "[0. 3. 1. 1. 0. 2.]\n",
      "[1. 2. 2. 2. 0. 1.]\n",
      "[0. 2. 2. 1. 0. 0.]\n",
      "[0. 2. 0. 1. 0. 0.]\n",
      "[2. 3. 2. 1. 0. 1.]\n",
      "[0. 2. 1. 2. 0. 0.]\n",
      "[0. 1. 1. 1. 0. 0.]\n",
      "[0. 1. 1. 2. 0. 0.]\n",
      "[0. 3. 2. 2. 0. 0.]\n",
      "[0. 1. 2. 1. 0. 0.]\n",
      "[0. 2. 2. 1. 0. 0.]\n",
      "[0. 3. 2. 1. 0. 0.]\n",
      "[2. 2. 1. 1. 1. 0.]\n",
      "[1. 3. 2. 1. 0. 1.]\n",
      "[0. 2. 2. 1. 1. 0.]\n",
      "[0. 2. 2. 1. 0. 0.]\n",
      "[0. 2. 3. 3. 1. 0.]\n",
      "[1. 3. 2. 2. 0. 0.]\n",
      "[0. 2. 2. 1. 1. 0.]\n",
      "[0. 2. 1. 2. 0. 0.]\n",
      "[2. 2. 2. 1. 0. 1.]\n",
      "[1. 2. 2. 1. 1. 1.]\n",
      "[0. 2. 2. 1. 1. 0.]\n",
      "[3. 2. 2. 1. 0. 2.]\n",
      "[0. 3. 2. 2. 0. 0.]\n",
      "[1. 2. 2. 2. 0. 1.]\n",
      "[0. 2. 3. 2. 0. 0.]\n",
      "[0. 2. 2. 2. 1. 0.]\n",
      "[0. 2. 2. 1. 0. 0.]\n",
      "[0. 1. 2. 1. 0. 0.]\n",
      "[0. 1. 2. 2. 0. 0.]\n",
      "[1. 3. 2. 1. 0. 2.]\n",
      "[1. 2. 2. 2. 1. 0.]\n",
      "[0. 1. 1. 1. 0. 0.]\n",
      "[0. 2. 2. 1. 0. 0.]\n",
      "[3. 2. 0. 2. 0. 1.]\n",
      "[0. 2. 2. 2. 0. 0.]\n",
      "[0. 1. 2. 2. 0. 1.]\n",
      "[0. 1. 2. 1. 0. 0.]\n",
      "[0. 2. 2. 0. 0. 0.]\n",
      "[0. 1. 1. 1. 0. 0.]\n",
      "[0. 2. 2. 2. 1. 0.]\n",
      "[0. 3. 2. 2. 0. 0.]\n",
      "[2. 1. 2. 1. 0. 0.]\n",
      "[0. 2. 2. 2. 0. 0.]\n",
      "[1. 1. 2. 2. 0. 2.]\n",
      "[0. 2. 1. 1. 2. 0.]\n",
      "[1. 2. 2. 2. 1. 1.]\n",
      "[0. 1. 2. 1. 0. 0.]\n",
      "[0. 1. 1. 2. 0. 0.]\n",
      "[0. 2. 2. 2. 0. 0.]\n",
      "[1. 3. 2. 2. 0. 1.]\n",
      "[3. 3. 2. 1. 1. 1.]\n",
      "[0. 2. 2. 1. 0. 0.]\n",
      "[0. 2. 2. 2. 0. 0.]\n",
      "[0. 2. 1. 1. 0. 0.]\n",
      "[0. 2. 2. 1. 0. 0.]\n",
      "[2. 2. 3. 2. 0. 2.]\n",
      "[0. 2. 1. 1. 0. 0.]\n",
      "[0. 3. 2. 3. 0. 0.]\n",
      "[1. 2. 2. 1. 1. 0.]\n",
      "[0. 2. 2. 1. 0. 0.]\n",
      "[2. 3. 2. 2. 0. 1.]\n",
      "[0. 3. 2. 1. 0. 0.]\n",
      "[1. 1. 2. 1. 1. 1.]\n",
      "[0. 2. 1. 1. 0. 0.]\n",
      "[0. 2. 2. 1. 0. 0.]\n",
      "[2. 1. 2. 1. 0. 0.]\n",
      "[0. 2. 0. 2. 0. 1.]\n",
      "[0. 2. 0. 1. 0. 0.]\n",
      "[0. 2. 2. 2. 1. 0.]\n",
      "[0. 2. 2. 2. 1. 0.]\n",
      "[1. 2. 2. 1. 0. 1.]\n",
      "[1. 1. 2. 2. 0. 0.]\n"
     ]
    }
   ],
   "source": [
    "c1 = KNN(k=7)\n",
    "c1.fit(X_train, y_train)\n",
    "pred_y = c1.predict(X_test)"
   ]
  },
  {
   "cell_type": "code",
   "execution_count": 102,
   "id": "f2c438fa",
   "metadata": {},
   "outputs": [
    {
     "name": "stdout",
     "output_type": "stream",
     "text": [
      "              precision    recall  f1-score   support\n",
      "\n",
      "         0.0       0.79      0.77      0.78       154\n",
      "         1.0       0.56      0.58      0.57        77\n",
      "\n",
      "    accuracy                           0.71       231\n",
      "   macro avg       0.68      0.68      0.68       231\n",
      "weighted avg       0.71      0.71      0.71       231\n",
      "\n",
      "Accuracy  70.995670995671\n"
     ]
    }
   ],
   "source": [
    "from sklearn.metrics import classification_report, f1_score, accuracy_score, confusion_matrix\n",
    "print(classification_report(pred_y,y_test))\n",
    "print(\"Accuracy \", c1.accuracy_metric(y_test,pred_y))"
   ]
  },
  {
   "cell_type": "markdown",
   "id": "f4564dfb",
   "metadata": {},
   "source": [
    "### Accuracy : 71%"
   ]
  },
  {
   "cell_type": "markdown",
   "id": "da1b1283",
   "metadata": {},
   "source": [
    "### Confusion Matrix"
   ]
  },
  {
   "cell_type": "code",
   "execution_count": 103,
   "id": "9408c865",
   "metadata": {},
   "outputs": [
    {
     "data": {
      "image/png": "[encoded data removed]",
      "text/plain": [
       "<Figure size 432x288 with 2 Axes>"
      ]
     },
     "metadata": {
      "needs_background": "light"
     },
     "output_type": "display_data"
    }
   ],
   "source": [
    "data = {'y_Actual':    y_test,\n",
    "        'y_Predicted': pred_y\n",
    "        }\n",
    "\n",
    "df = pd.DataFrame(data, columns=['y_Actual','y_Predicted'])\n",
    "confusion_matrix = pd.crosstab(df['y_Actual'], df['y_Predicted'], rownames=['Actual'], colnames=['Predicted'])\n",
    "\n",
    "sn.heatmap(confusion_matrix, annot=True)\n",
    "plt.show()"
   ]
  },
  {
   "cell_type": "markdown",
   "id": "361c5b95",
   "metadata": {},
   "source": [
    "## NAIVE BAYES"
   ]
  },
  {
   "cell_type": "code",
   "execution_count": 104,
   "id": "65e8f8bc",
   "metadata": {},
   "outputs": [
    {
     "name": "stdout",
     "output_type": "stream",
     "text": [
      "              precision    recall  f1-score   support\n",
      "\n",
      "         0.0       0.79      0.77      0.78       154\n",
      "         1.0       0.56      0.58      0.57        77\n",
      "\n",
      "    accuracy                           0.71       231\n",
      "   macro avg       0.68      0.68      0.68       231\n",
      "weighted avg       0.71      0.71      0.71       231\n",
      "\n"
     ]
    }
   ],
   "source": [
    "from sklearn.naive_bayes import GaussianNB\n",
    "gnb = GaussianNB()\n",
    "y_pred = gnb.fit(X_train, y_train).predict(X_test)\n",
    "print(classification_report(pred_y,y_test))"
   ]
  },
  {
   "cell_type": "code",
   "execution_count": 105,
   "id": "feabce86",
   "metadata": {},
   "outputs": [
    {
     "data": {
      "text/plain": [
       "72.2943722943723"
      ]
     },
     "execution_count": 105,
     "metadata": {},
     "output_type": "execute_result"
    }
   ],
   "source": [
    "accuracy_score(y_test, y_pred)*100"
   ]
  },
  {
   "cell_type": "markdown",
   "id": "90e5ed26",
   "metadata": {},
   "source": [
    "### Accuracy : 72%"
   ]
  },
  {
   "cell_type": "code",
   "execution_count": 106,
   "id": "ed6d24f9",
   "metadata": {},
   "outputs": [],
   "source": [
    "from sklearn.neighbors import KNeighborsClassifier\n",
    "neigh = KNeighborsClassifier(n_neighbors=7)"
   ]
  },
  {
   "cell_type": "markdown",
   "id": "eee5adfe",
   "metadata": {},
   "source": [
    "### Confusion Matrix"
   ]
  },
  {
   "cell_type": "code",
   "execution_count": 107,
   "id": "6186e85f",
   "metadata": {},
   "outputs": [
    {
     "data": {
      "image/png": "[encoded data removed]",
      "text/plain": [
       "<Figure size 432x288 with 2 Axes>"
      ]
     },
     "metadata": {
      "needs_background": "light"
     },
     "output_type": "display_data"
    }
   ],
   "source": [
    "data = {'y_Actual':    y_test,\n",
    "        'y_Predicted': y_pred\n",
    "        }\n",
    "\n",
    "df = pd.DataFrame(data, columns=['y_Actual','y_Predicted'])\n",
    "confusion_matrix = pd.crosstab(df['y_Actual'], df['y_Predicted'], rownames=['Actual'], colnames=['Predicted'])\n",
    "\n",
    "sn.heatmap(confusion_matrix, annot=True)\n",
    "plt.show()"
   ]
  },
  {
   "cell_type": "markdown",
   "id": "7828fff2",
   "metadata": {},
   "source": [
    "## KFOLD CROSS VALIDATION"
   ]
  },
  {
   "cell_type": "code",
   "execution_count": 108,
   "id": "0b0398e6",
   "metadata": {},
   "outputs": [],
   "source": [
    "from sklearn.model_selection import KFold\n",
    "from sklearn.model_selection import cross_val_score\n",
    "from numpy import mean\n",
    "from numpy import std"
   ]
  },
  {
   "cell_type": "markdown",
   "id": "1fba4d1a",
   "metadata": {},
   "source": [
    "### FOR KNN"
   ]
  },
  {
   "cell_type": "code",
   "execution_count": 109,
   "id": "d7b7b5b3",
   "metadata": {},
   "outputs": [
    {
     "name": "stdout",
     "output_type": "stream",
     "text": [
      "[69.79166667 75.26041667]\n"
     ]
    }
   ],
   "source": [
    "cv = KFold(n_splits=2)\n",
    "scores = cross_val_score(neigh, df_di_X.values, y_di, scoring='accuracy', cv=cv, n_jobs=-1)\n",
    "print(scores*100)"
   ]
  },
  {
   "cell_type": "markdown",
   "id": "046cb20b",
   "metadata": {},
   "source": [
    "### FOR NAIVE BAYES"
   ]
  },
  {
   "cell_type": "code",
   "execution_count": 110,
   "id": "ffb3f95b",
   "metadata": {},
   "outputs": [
    {
     "name": "stdout",
     "output_type": "stream",
     "text": [
      "[71.09375    74.73958333]\n"
     ]
    }
   ],
   "source": [
    "scores = cross_val_score(gnb, df_di_X.values, y_di, scoring='accuracy', cv=cv, n_jobs=-1)\n",
    "print(scores*100)"
   ]
  },
  {
   "cell_type": "markdown",
   "id": "503e8718",
   "metadata": {},
   "source": [
    "## DECISION TREES"
   ]
  },
  {
   "cell_type": "code",
   "execution_count": 111,
   "id": "0622d9f6",
   "metadata": {},
   "outputs": [],
   "source": [
    "from sklearn.model_selection import train_test_split\n",
    "X = dataframe_Diabetes.drop(columns=8)\n",
    "y = dataframe_Diabetes[8]\n",
    "X_train, X_test, y_train, y_test = train_test_split(X, y, test_size=0.20, random_state=0)"
   ]
  },
  {
   "cell_type": "code",
   "execution_count": 112,
   "id": "57129e7b",
   "metadata": {},
   "outputs": [
    {
     "data": {
      "text/plain": [
       "DecisionTreeClassifier(criterion='entropy', max_depth=3, max_features=5,\n",
       "                       min_samples_leaf=6)"
      ]
     },
     "execution_count": 112,
     "metadata": {},
     "output_type": "execute_result"
    }
   ],
   "source": [
    "from sklearn.tree import DecisionTreeClassifier\n",
    "from sklearn.model_selection import GridSearchCV\n",
    "classifier = DecisionTreeClassifier()\n",
    "\n",
    "from scipy.stats import randint\n",
    "from sklearn.model_selection import RandomizedSearchCV\n",
    "\n",
    "parameters = {\"max_depth\":[2,3, None],\n",
    "              \"max_features\":randint(1,9),\n",
    "              \"min_samples_leaf\":randint(1,8),\n",
    "              \"criterion\": [\"gini\", \"entropy\"]\n",
    "}\n",
    "\n",
    "tree_cv = RandomizedSearchCV(classifier, parameters, cv = 5)\n",
    "tree_cv.fit(X_train, y_train)\n",
    "tree_cv.best_estimator_"
   ]
  },
  {
   "cell_type": "code",
   "execution_count": 113,
   "id": "15a5da63",
   "metadata": {},
   "outputs": [
    {
     "data": {
      "text/plain": [
       "DecisionTreeClassifier(max_depth=2, max_features=6, min_samples_leaf=7)"
      ]
     },
     "execution_count": 113,
     "metadata": {},
     "output_type": "execute_result"
    }
   ],
   "source": [
    "classifier = DecisionTreeClassifier(max_depth=2, max_features=6, min_samples_leaf=7)\n",
    "classifier.fit(X_train, y_train)"
   ]
  },
  {
   "cell_type": "code",
   "execution_count": 114,
   "id": "66b110b8",
   "metadata": {},
   "outputs": [
    {
     "data": {
      "text/plain": [
       "array([1., 0., 0., 0., 0., 0., 1., 1., 0., 0., 1., 1., 0., 0., 0., 0., 1.,\n",
       "       0., 0., 0., 1., 0., 0., 0., 0., 1., 0., 1., 0., 0., 0., 0., 0., 0.,\n",
       "       0., 1., 0., 0., 0., 1., 0., 0., 0., 1., 1., 0., 0., 0., 0., 1., 0.,\n",
       "       0., 1., 1., 0., 0., 0., 0., 0., 0., 1., 1., 0., 1., 1., 0., 1., 0.,\n",
       "       0., 0., 0., 0., 0., 1., 1., 1., 0., 0., 0., 0., 0., 1., 0., 0., 0.,\n",
       "       0., 0., 0., 1., 0., 0., 0., 0., 0., 1., 0., 0., 1., 0., 0., 0., 0.,\n",
       "       0., 0., 1., 0., 0., 1., 0., 0., 0., 0., 1., 1., 1., 1., 0., 0., 0.,\n",
       "       0., 0., 0., 0., 0., 0., 0., 1., 0., 0., 0., 0., 0., 0., 1., 0., 0.,\n",
       "       0., 0., 0., 0., 0., 1., 0., 0., 0., 0., 0., 0., 0., 0., 0., 1., 0.,\n",
       "       0.])"
      ]
     },
     "execution_count": 114,
     "metadata": {},
     "output_type": "execute_result"
    }
   ],
   "source": [
    "y_pred = classifier.predict(X_test)\n",
    "y_pred"
   ]
  },
  {
   "cell_type": "code",
   "execution_count": 115,
   "id": "13f0db55",
   "metadata": {},
   "outputs": [
    {
     "name": "stdout",
     "output_type": "stream",
     "text": [
      "75.97402597402598\n"
     ]
    }
   ],
   "source": [
    "from sklearn.metrics import confusion_matrix, accuracy_score\n",
    "print(accuracy_score(y_test, y_pred)*100)"
   ]
  },
  {
   "cell_type": "markdown",
   "id": "2a08ab7a",
   "metadata": {},
   "source": [
    "### Accuracy : 76 %"
   ]
  },
  {
   "cell_type": "code",
   "execution_count": 116,
   "id": "2c73a000",
   "metadata": {},
   "outputs": [
    {
     "name": "stdout",
     "output_type": "stream",
     "text": [
      "Requirement already satisfied: keras in c:\\users\\hp\\anaconda3\\lib\\site-packages (2.7.0)\n",
      "Note: you may need to restart the kernel to use updated packages.\n"
     ]
    }
   ],
   "source": [
    "pip install keras\n"
   ]
  },
  {
   "cell_type": "markdown",
   "id": "904ada41",
   "metadata": {},
   "source": [
    "## NEURAL NETWORKS"
   ]
  },
  {
   "cell_type": "code",
   "execution_count": 129,
   "id": "2b7aa218",
   "metadata": {},
   "outputs": [],
   "source": [
    "from sklearn.preprocessing import Normalizer\n",
    "from keras.layers import Activation, Dense, Dropout, BatchNormalization, Input\n",
    "X = dataframe_Diabetes.drop(columns=8)\n",
    "y = dataframe_Diabetes[8]\n",
    "X_train, X_test, y_train, y_test = train_test_split(X, y, test_size=0.3, random_state=2)\n",
    "data_nor = Normalizer()\n",
    "data_nor.fit(X_train)\n",
    "X_train = data_nor.transform(X_train)\n",
    "X_dev, X_test, y_dev, y_test = train_test_split(X_test, y_test, test_size=0.5, random_state=2)\n",
    "X_dev = data_nor.transform(X_dev)\n",
    "X_test = data_nor.transform(X_test)"
   ]
  },
  {
   "cell_type": "code",
   "execution_count": 130,
   "id": "22772243",
   "metadata": {},
   "outputs": [],
   "source": [
    "def hiddenlayers():\n",
    "    firstlayer = Input(name='inputs', shape=[X_train.shape[1],])\n",
    "    hiddenlayer = Dense(128, name='FC1')( firstlayer)\n",
    "    hiddenlayer = BatchNormalization(name='BC1')( hiddenlayer)\n",
    "    hiddenlayer = Activation('relu', name='Activation1')( hiddenlayer)\n",
    "    hiddenlayer = Dropout(0.3, name='Dropout1')( hiddenlayer)\n",
    "    hiddenlayer = Dense(128, name='FC2')( hiddenlayer)\n",
    "    hiddenlayer= BatchNormalization(name='BC2')( hiddenlayer)\n",
    "    hiddenlayer = Activation('relu', name='Activation2')( hiddenlayer)\n",
    "    hiddenlayer = Dropout(0.3, name='Dropout2')( hiddenlayer)\n",
    "    hiddenlayer = Dense(128, name='FC3')(hiddenlayer)\n",
    "    hiddenlayer = BatchNormalization(name='BC3')(hiddenlayer)\n",
    "    hiddenlayer = Dropout(0.3, name='Dropout3')(hiddenlayer)\n",
    "    hiddenlayer = Dense(1, name='OutLayer')(hiddenlayer)\n",
    "    hiddenlayer = Activation('sigmoid', name='sigmoid')(hiddenlayer)\n",
    "    model = Model(inputs= firstlayer, outputs= hiddenlayer)\n",
    "    return model"
   ]
  },
  {
   "cell_type": "code",
   "execution_count": 131,
   "id": "69acf290",
   "metadata": {},
   "outputs": [
    {
     "name": "stdout",
     "output_type": "stream",
     "text": [
      "Model: \"model_2\"\n",
      "_________________________________________________________________\n",
      " Layer (type)                Output Shape              Param #   \n",
      "=================================================================\n",
      " inputs (InputLayer)         [(None, 8)]               0         \n",
      "                                                                 \n",
      " FC1 (Dense)                 (None, 128)               1152      \n",
      "                                                                 \n",
      " BC1 (BatchNormalization)    (None, 128)               512       \n",
      "                                                                 \n",
      " Activation1 (Activation)    (None, 128)               0         \n",
      "                                                                 \n",
      " Dropout1 (Dropout)          (None, 128)               0         \n",
      "                                                                 \n",
      " FC2 (Dense)                 (None, 128)               16512     \n",
      "                                                                 \n",
      " BC2 (BatchNormalization)    (None, 128)               512       \n",
      "                                                                 \n",
      " Activation2 (Activation)    (None, 128)               0         \n",
      "                                                                 \n",
      " Dropout2 (Dropout)          (None, 128)               0         \n",
      "                                                                 \n",
      " FC3 (Dense)                 (None, 128)               16512     \n",
      "                                                                 \n",
      " BC3 (BatchNormalization)    (None, 128)               512       \n",
      "                                                                 \n",
      " Dropout3 (Dropout)          (None, 128)               0         \n",
      "                                                                 \n",
      " OutLayer (Dense)            (None, 1)                 129       \n",
      "                                                                 \n",
      " sigmoid (Activation)        (None, 1)                 0         \n",
      "                                                                 \n",
      "=================================================================\n",
      "Total params: 35,841\n",
      "Trainable params: 35,073\n",
      "Non-trainable params: 768\n",
      "_________________________________________________________________\n"
     ]
    }
   ],
   "source": [
    "from keras.models import Model\n",
    "model = hiddenlayers()\n",
    "model.summary()"
   ]
  },
  {
   "cell_type": "code",
   "execution_count": 132,
   "id": "04fea2b1",
   "metadata": {},
   "outputs": [
    {
     "data": {
      "text/plain": [
       "<keras.callbacks.History at 0x1be3a34f9a0>"
      ]
     },
     "execution_count": 132,
     "metadata": {},
     "output_type": "execute_result"
    }
   ],
   "source": [
    "from tensorflow.keras.optimizers import Adam\n",
    "from keras.callbacks import ReduceLROnPlateau, EarlyStopping\n",
    "model.compile(loss='binary_crossentropy', optimizer=Adam(), metrics=['accuracy'])\n",
    "datay = ReduceLROnPlateau()\n",
    "datax = EarlyStopping(patience=20, min_delta=0.0001)\n",
    "model.fit(x=X_train, y=y_train, epochs=200, validation_data=(X_dev, y_dev), callbacks=[datay, datax], verbose=0)"
   ]
  },
  {
   "cell_type": "code",
   "execution_count": 133,
   "id": "0c9cd59c",
   "metadata": {},
   "outputs": [
    {
     "name": "stdout",
     "output_type": "stream",
     "text": [
      "74.30167597765363\n"
     ]
    }
   ],
   "source": [
    "x_lst = [X_train, X_dev, X_test]\n",
    "y_lst = [y_train, y_dev, y_test]\n",
    "for i,(x,y) in enumerate(zip(x_lst, y_lst)):\n",
    "    y_list = model.predict(x)\n",
    "    y_list = np.around(y_list)\n",
    "    y_list = np.asarray(y_list)\n",
    "    if i == 0:\n",
    "        print(accuracy_score(y, y_list)*100)\n"
   ]
  },
  {
   "cell_type": "markdown",
   "id": "0aee02fb",
   "metadata": {},
   "source": [
    "### Accuracy : 74.4%"
   ]
  }
 ],
 "metadata": {
  "kernelspec": {
   "display_name": "Python 3",
   "language": "python",
   "name": "python3"
  },
  "language_info": {
   "codemirror_mode": {
    "name": "ipython",
    "version": 3
   },
   "file_extension": ".py",
   "mimetype": "text/x-python",
   "name": "python",
   "nbconvert_exporter": "python",
   "pygments_lexer": "ipython3",
   "version": "3.8.8"
  }
 },
 "nbformat": 4,
 "nbformat_minor": 5
}
